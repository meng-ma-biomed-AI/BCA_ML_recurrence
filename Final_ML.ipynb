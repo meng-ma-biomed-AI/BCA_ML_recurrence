{
 "cells": [
  {
   "cell_type": "code",
   "execution_count": 1,
   "metadata": {
    "id": "Hk3PARLhaH1m"
   },
   "outputs": [],
   "source": [
    "#import libraries\n",
    "import numpy as np # linear algebra\n",
    "import seaborn as sns\n",
    "import pandas as pd # data processing\n",
    "import matplotlib.pyplot as plt #data viz\n",
    "import seaborn as sns #data viz\n",
    "from sklearn.compose import ColumnTransformer #data preprocessing\n",
    "from sklearn.preprocessing import OneHotEncoder, StandardScaler #data preprocessing\n",
    "from sklearn.impute import KNNImputer #handle missing values\n",
    "from sklearn.model_selection import train_test_split #train/test dataset\n",
    "\n",
    "from sklearn import metrics\n",
    "from sklearn.metrics import accuracy_score, recall_score, precision_score #evaluate model\n",
    "from sklearn.neural_network import MLPClassifier\n",
    "from sklearn.linear_model import LogisticRegression\n",
    "from sklearn import svm\n",
    "from sklearn.model_selection import learning_curve\n",
    "from sklearn.metrics import confusion_matrix, classification_report\n",
    "from sklearn.preprocessing import StandardScaler, LabelEncoder\n",
    "from sklearn.model_selection import GridSearchCV\n",
    "from sklearn.metrics import plot_precision_recall_curve\n",
    "\n",
    "\n",
    "import warnings\n",
    "# filter warnings\n",
    "warnings.filterwarnings('ignore')\n",
    "np.random.seed(0)\n",
    "%matplotlib inline"
   ]
  },
  {
   "cell_type": "code",
   "execution_count": 2,
   "metadata": {
    "id": "RLXegHCNa8i5"
   },
   "outputs": [],
   "source": [
    "name = ['Class','age', 'menopause','tumor-size','inv-nodes', 'node-caps','deg-malig','breast','breast-quad','irradiat']"
   ]
  },
  {
   "cell_type": "code",
   "execution_count": 3,
   "metadata": {
    "id": "YyGu-r5HbPZ3"
   },
   "outputs": [],
   "source": [
    "name = ['Class','age', 'menopause','tumor-size','inv-nodes', 'node-caps','deg-malig','breast','breast-quad','irradiat']\n",
    "df = pd.read_csv('Data/breast-cancer.data', names = name)"
   ]
  },
  {
   "cell_type": "code",
   "execution_count": 4,
   "metadata": {
    "id": "fW7ekwr9biEa"
   },
   "outputs": [
    {
     "data": {
      "text/html": [
       "<div>\n",
       "<style scoped>\n",
       "    .dataframe tbody tr th:only-of-type {\n",
       "        vertical-align: middle;\n",
       "    }\n",
       "\n",
       "    .dataframe tbody tr th {\n",
       "        vertical-align: top;\n",
       "    }\n",
       "\n",
       "    .dataframe thead th {\n",
       "        text-align: right;\n",
       "    }\n",
       "</style>\n",
       "<table border=\"1\" class=\"dataframe\">\n",
       "  <thead>\n",
       "    <tr style=\"text-align: right;\">\n",
       "      <th></th>\n",
       "      <th>Class</th>\n",
       "      <th>age</th>\n",
       "      <th>menopause</th>\n",
       "      <th>tumor-size</th>\n",
       "      <th>inv-nodes</th>\n",
       "      <th>node-caps</th>\n",
       "      <th>deg-malig</th>\n",
       "      <th>breast</th>\n",
       "      <th>breast-quad</th>\n",
       "      <th>irradiat</th>\n",
       "    </tr>\n",
       "  </thead>\n",
       "  <tbody>\n",
       "    <tr>\n",
       "      <th>0</th>\n",
       "      <td>no-recurrence-events</td>\n",
       "      <td>30-39</td>\n",
       "      <td>premeno</td>\n",
       "      <td>30-34</td>\n",
       "      <td>0-2</td>\n",
       "      <td>no</td>\n",
       "      <td>3</td>\n",
       "      <td>left</td>\n",
       "      <td>left_low</td>\n",
       "      <td>no</td>\n",
       "    </tr>\n",
       "    <tr>\n",
       "      <th>1</th>\n",
       "      <td>no-recurrence-events</td>\n",
       "      <td>40-49</td>\n",
       "      <td>premeno</td>\n",
       "      <td>20-24</td>\n",
       "      <td>0-2</td>\n",
       "      <td>no</td>\n",
       "      <td>2</td>\n",
       "      <td>right</td>\n",
       "      <td>right_up</td>\n",
       "      <td>no</td>\n",
       "    </tr>\n",
       "    <tr>\n",
       "      <th>2</th>\n",
       "      <td>no-recurrence-events</td>\n",
       "      <td>40-49</td>\n",
       "      <td>premeno</td>\n",
       "      <td>20-24</td>\n",
       "      <td>0-2</td>\n",
       "      <td>no</td>\n",
       "      <td>2</td>\n",
       "      <td>left</td>\n",
       "      <td>left_low</td>\n",
       "      <td>no</td>\n",
       "    </tr>\n",
       "    <tr>\n",
       "      <th>3</th>\n",
       "      <td>no-recurrence-events</td>\n",
       "      <td>60-69</td>\n",
       "      <td>ge40</td>\n",
       "      <td>15-19</td>\n",
       "      <td>0-2</td>\n",
       "      <td>no</td>\n",
       "      <td>2</td>\n",
       "      <td>right</td>\n",
       "      <td>left_up</td>\n",
       "      <td>no</td>\n",
       "    </tr>\n",
       "    <tr>\n",
       "      <th>4</th>\n",
       "      <td>no-recurrence-events</td>\n",
       "      <td>40-49</td>\n",
       "      <td>premeno</td>\n",
       "      <td>0-4</td>\n",
       "      <td>0-2</td>\n",
       "      <td>no</td>\n",
       "      <td>2</td>\n",
       "      <td>right</td>\n",
       "      <td>right_low</td>\n",
       "      <td>no</td>\n",
       "    </tr>\n",
       "  </tbody>\n",
       "</table>\n",
       "</div>"
      ],
      "text/plain": [
       "                  Class    age menopause tumor-size inv-nodes node-caps  \\\n",
       "0  no-recurrence-events  30-39   premeno      30-34       0-2        no   \n",
       "1  no-recurrence-events  40-49   premeno      20-24       0-2        no   \n",
       "2  no-recurrence-events  40-49   premeno      20-24       0-2        no   \n",
       "3  no-recurrence-events  60-69      ge40      15-19       0-2        no   \n",
       "4  no-recurrence-events  40-49   premeno        0-4       0-2        no   \n",
       "\n",
       "   deg-malig breast breast-quad irradiat  \n",
       "0          3   left    left_low       no  \n",
       "1          2  right    right_up       no  \n",
       "2          2   left    left_low       no  \n",
       "3          2  right     left_up       no  \n",
       "4          2  right   right_low       no  "
      ]
     },
     "execution_count": 4,
     "metadata": {},
     "output_type": "execute_result"
    }
   ],
   "source": [
    "df.head()"
   ]
  },
  {
   "cell_type": "code",
   "execution_count": 5,
   "metadata": {
    "id": "SKwiFpmRbiA9"
   },
   "outputs": [
    {
     "data": {
      "text/plain": [
       "(286, 10)"
      ]
     },
     "execution_count": 5,
     "metadata": {},
     "output_type": "execute_result"
    }
   ],
   "source": [
    "df.shape"
   ]
  },
  {
   "cell_type": "code",
   "execution_count": 6,
   "metadata": {
    "id": "CliDBPeebh9j"
   },
   "outputs": [
    {
     "data": {
      "text/plain": [
       "array(['left_low', 'right_up', 'left_up', 'right_low', 'central', '?'],\n",
       "      dtype=object)"
      ]
     },
     "execution_count": 6,
     "metadata": {},
     "output_type": "execute_result"
    }
   ],
   "source": [
    "df['breast-quad'].unique()"
   ]
  },
  {
   "cell_type": "code",
   "execution_count": 7,
   "metadata": {
    "id": "dH3SYY35b64p"
   },
   "outputs": [
    {
     "data": {
      "text/plain": [
       "(285, 10)"
      ]
     },
     "execution_count": 7,
     "metadata": {},
     "output_type": "execute_result"
    }
   ],
   "source": [
    "df = df[df['breast-quad']!='?']\n",
    "df.shape"
   ]
  },
  {
   "cell_type": "code",
   "execution_count": 8,
   "metadata": {
    "id": "c11Pbx5fbh5y"
   },
   "outputs": [
    {
     "data": {
      "text/plain": [
       "array(['no', 'yes', '?'], dtype=object)"
      ]
     },
     "execution_count": 8,
     "metadata": {},
     "output_type": "execute_result"
    }
   ],
   "source": [
    "df['node-caps'].unique()"
   ]
  },
  {
   "cell_type": "code",
   "execution_count": 9,
   "metadata": {
    "id": "FgonK8-Mbh1e"
   },
   "outputs": [
    {
     "data": {
      "text/plain": [
       "(277, 10)"
      ]
     },
     "execution_count": 9,
     "metadata": {},
     "output_type": "execute_result"
    }
   ],
   "source": [
    "df = df[df['node-caps']!='?']\n",
    "df.shape"
   ]
  },
  {
   "cell_type": "markdown",
   "metadata": {
    "id": "WQbKgESIcr_f"
   },
   "source": [
    "# Exploratory data analysis\n"
   ]
  },
  {
   "cell_type": "code",
   "execution_count": 10,
   "metadata": {
    "id": "xz3SsYMKcogf"
   },
   "outputs": [
    {
     "data": {
      "text/plain": [
       "<matplotlib.legend.Legend at 0x167b4a66af0>"
      ]
     },
     "execution_count": 10,
     "metadata": {},
     "output_type": "execute_result"
    },
    {
     "data": {
      "image/png": "[encoded data removed]",
      "text/plain": [
       "<Figure size 432x288 with 1 Axes>"
      ]
     },
     "metadata": {
      "needs_background": "light"
     },
     "output_type": "display_data"
    }
   ],
   "source": [
    "grp = df.groupby(['age', 'Class'])['age'].count().unstack().reset_index()\n",
    "labels = list(grp.iloc[:, 0].values)\n",
    "no_dis = list(grp.iloc[:, 1].values) \n",
    "yes_dis = list(grp.iloc[:, 2].values)\n",
    "x = np.arange(len(labels))  # the label locations\n",
    "width = 0.35  # the width of the bars\n",
    "\n",
    "fig, ax = plt.subplots()\n",
    "rects1 = ax.bar(x - width/2, no_dis, width, label='No-recurrence events')\n",
    "rects2 = ax.bar(x + width/2, yes_dis, width, label='Recurrence events')\n",
    "\n",
    "ax.set_ylabel('Counts')\n",
    "ax.set_xlabel('age')\n",
    "ax.set_title('Bar chart of Age grouped by Class')\n",
    "ax.set_xticks(x) # values\n",
    "ax.set_xticklabels(labels) # labels\n",
    "ax.legend()"
   ]
  },
  {
   "cell_type": "code",
   "execution_count": 11,
   "metadata": {
    "id": "O0Yzec9ycodN"
   },
   "outputs": [
    {
     "data": {
      "text/plain": [
       "<matplotlib.legend.Legend at 0x167b4b20fd0>"
      ]
     },
     "execution_count": 11,
     "metadata": {},
     "output_type": "execute_result"
    },
    {
     "data": {
      "image/png": "[encoded data removed]",
      "text/plain": [
       "<Figure size 432x288 with 1 Axes>"
      ]
     },
     "metadata": {
      "needs_background": "light"
     },
     "output_type": "display_data"
    }
   ],
   "source": [
    "grp = df.groupby(['inv-nodes', 'Class'])['inv-nodes'].count().unstack().reset_index()\n",
    "labels = list(grp.iloc[:, 0].values)\n",
    "no_dis = list(grp.iloc[:, 1].values) \n",
    "yes_dis = list(grp.iloc[:, 2].values)\n",
    "x = np.arange(len(labels))  # the label locations\n",
    "width = 0.35  # the width of the bars\n",
    "\n",
    "fig, ax = plt.subplots()\n",
    "rects1 = ax.bar(x - width/2, no_dis, width, label='No-recurrence events')\n",
    "rects2 = ax.bar(x + width/2, yes_dis, width, label='Recurrence events')\n",
    "\n",
    "ax.set_ylabel('Counts')\n",
    "ax.set_xlabel('Inv-nodes')\n",
    "ax.set_title('Barchart of inv-nodes grouped by Class')\n",
    "ax.set_xticks(x) # values\n",
    "ax.set_xticklabels(labels) # labels\n",
    "ax.legend()"
   ]
  },
  {
   "cell_type": "code",
   "execution_count": 12,
   "metadata": {
    "id": "HUGNzQI-coV6"
   },
   "outputs": [
    {
     "data": {
      "text/plain": [
       "<matplotlib.legend.Legend at 0x167b4bbd8e0>"
      ]
     },
     "execution_count": 12,
     "metadata": {},
     "output_type": "execute_result"
    },
    {
     "data": {
      "image/png": "[encoded data removed]",
      "text/plain": [
       "<Figure size 432x288 with 1 Axes>"
      ]
     },
     "metadata": {
      "needs_background": "light"
     },
     "output_type": "display_data"
    }
   ],
   "source": [
    "grp = df.groupby(['menopause', 'Class'])['menopause'].count().unstack().reset_index()\n",
    "labels = list(grp.iloc[:, 0].values)\n",
    "no_dis = list(grp.iloc[:, 1].values) \n",
    "yes_dis = list(grp.iloc[:, 2].values)\n",
    "x = np.arange(len(labels))  # the label locations\n",
    "width = 0.35  # the width of the bars\n",
    "\n",
    "fig, ax = plt.subplots()\n",
    "rects1 = ax.bar(x - width/2, no_dis, width, label='No-recurrence events')\n",
    "rects2 = ax.bar(x + width/2, yes_dis, width, label='Recurrence events')\n",
    "\n",
    "ax.set_ylabel('Counts')\n",
    "ax.set_xlabel('menopause')\n",
    "ax.set_title('Histogram of menopause grouped by Class')\n",
    "ax.set_xticks(x) # values\n",
    "ax.set_xticklabels(labels) # labels\n",
    "ax.legend()"
   ]
  },
  {
   "cell_type": "code",
   "execution_count": 13,
   "metadata": {
    "id": "kCJxMP0rcoSn"
   },
   "outputs": [
    {
     "data": {
      "text/plain": [
       "<matplotlib.legend.Legend at 0x167b4c497f0>"
      ]
     },
     "execution_count": 13,
     "metadata": {},
     "output_type": "execute_result"
    },
    {
     "data": {
      "image/png": "[encoded data removed]",
      "text/plain": [
       "<Figure size 432x288 with 1 Axes>"
      ]
     },
     "metadata": {
      "needs_background": "light"
     },
     "output_type": "display_data"
    }
   ],
   "source": [
    "grp = df.groupby(['irradiat', 'Class'])['irradiat'].count().unstack().reset_index()\n",
    "labels = list(grp.iloc[:, 0].values)\n",
    "no_dis = list(grp.iloc[:, 1].values) \n",
    "yes_dis = list(grp.iloc[:, 2].values)\n",
    "x = np.arange(len(labels))  # the label locations\n",
    "width = 0.35  # the width of the bars\n",
    "\n",
    "fig, ax = plt.subplots()\n",
    "rects1 = ax.bar(x - width/2, no_dis, width, label='No-recurrence events')\n",
    "rects2 = ax.bar(x + width/2, yes_dis, width, label='Recurrence events')\n",
    "\n",
    "ax.set_ylabel('Counts')\n",
    "ax.set_xlabel('irradiat')\n",
    "ax.set_title('Barchart of irradiat grouped by Class')\n",
    "ax.set_xticks(x) # values\n",
    "ax.set_xticklabels(labels) # labels\n",
    "ax.legend()"
   ]
  },
  {
   "cell_type": "code",
   "execution_count": 14,
   "metadata": {
    "id": "e-xf-T4fcoOb"
   },
   "outputs": [
    {
     "data": {
      "text/plain": [
       "<matplotlib.legend.Legend at 0x167b4c94070>"
      ]
     },
     "execution_count": 14,
     "metadata": {},
     "output_type": "execute_result"
    },
    {
     "data": {
      "image/png": "[encoded data removed]",
      "text/plain": [
       "<Figure size 432x288 with 1 Axes>"
      ]
     },
     "metadata": {
      "needs_background": "light"
     },
     "output_type": "display_data"
    }
   ],
   "source": [
    "grp = df.groupby(['breast-quad', 'Class'])['breast-quad'].count().unstack().reset_index()\n",
    "labels = list(grp.iloc[:, 0].values)\n",
    "no_dis = list(grp.iloc[:, 1].values) \n",
    "yes_dis = list(grp.iloc[:, 2].values)\n",
    "x = np.arange(len(labels))  # the label locations\n",
    "width = 0.35  # the width of the bars\n",
    "\n",
    "fig, ax = plt.subplots()\n",
    "rects1 = ax.bar(x - width/2, no_dis, width, label='No-recurrence events')\n",
    "rects2 = ax.bar(x + width/2, yes_dis, width, label='Recurrence events')\n",
    "\n",
    "ax.set_ylabel('Counts')\n",
    "ax.set_xlabel('breast-quad')\n",
    "ax.set_title('Barchart  of breast-quad grouped by Class')\n",
    "ax.set_xticks(x) # values\n",
    "ax.set_xticklabels(labels) # labels\n",
    "ax.legend()"
   ]
  },
  {
   "cell_type": "code",
   "execution_count": 15,
   "metadata": {
    "id": "TSniw_aHcoK8"
   },
   "outputs": [
    {
     "data": {
      "text/plain": [
       "<matplotlib.legend.Legend at 0x167b4d4db20>"
      ]
     },
     "execution_count": 15,
     "metadata": {},
     "output_type": "execute_result"
    },
    {
     "data": {
      "image/png": "[encoded data removed]",
      "text/plain": [
       "<Figure size 432x288 with 1 Axes>"
      ]
     },
     "metadata": {
      "needs_background": "light"
     },
     "output_type": "display_data"
    }
   ],
   "source": [
    "grp = df.groupby(['tumor-size', 'Class'])['tumor-size'].count().unstack().reset_index()\n",
    "labels = list(grp.iloc[:, 0].values)\n",
    "no_dis = list(grp.iloc[:, 1].values) \n",
    "yes_dis = list(grp.iloc[:, 2].values)\n",
    "x = np.arange(len(labels))  # the label locations\n",
    "width = 0.35  # the width of the bars\n",
    "\n",
    "fig, ax = plt.subplots()\n",
    "rects1 = ax.bar(x - width/2, no_dis, width, label='No-recurrence events')\n",
    "rects2 = ax.bar(x + width/2, yes_dis, width, label='Recurrence events')\n",
    "\n",
    "ax.set_ylabel('Counts')\n",
    "ax.set_xlabel('tumor-size')\n",
    "ax.set_title('Barchart  of tumor-size grouped by Class')\n",
    "ax.set_xticks(x) # values\n",
    "ax.set_xticklabels(labels) # labels\n",
    "ax.legend()"
   ]
  },
  {
   "cell_type": "code",
   "execution_count": 16,
   "metadata": {
    "id": "5DkjyWE-dCAm"
   },
   "outputs": [
    {
     "data": {
      "text/plain": [
       "<matplotlib.legend.Legend at 0x167b4dd29d0>"
      ]
     },
     "execution_count": 16,
     "metadata": {},
     "output_type": "execute_result"
    },
    {
     "data": {
      "image/png": "[encoded data removed]",
      "text/plain": [
       "<Figure size 432x288 with 1 Axes>"
      ]
     },
     "metadata": {
      "needs_background": "light"
     },
     "output_type": "display_data"
    }
   ],
   "source": [
    "grp = df.groupby(['node-caps', 'Class'])['node-caps'].count().unstack().reset_index()\n",
    "labels = list(grp.iloc[:, 0].values)\n",
    "no_dis = list(grp.iloc[:, 1].values) \n",
    "yes_dis = list(grp.iloc[:, 2].values)\n",
    "x = np.arange(len(labels))  # the label locations\n",
    "width = 0.35  # the width of the bars\n",
    "\n",
    "fig, ax = plt.subplots()\n",
    "rects1 = ax.bar(x - width/2, no_dis, width, label='No-recurrence events')\n",
    "rects2 = ax.bar(x + width/2, yes_dis, width, label='Recurrence events')\n",
    "\n",
    "ax.set_ylabel('Counts')\n",
    "ax.set_xlabel('node-caps')\n",
    "ax.set_title('Barchart  of node-caps grouped by Class')\n",
    "ax.set_xticks(x) # values\n",
    "ax.set_xticklabels(labels) # labels\n",
    "ax.legend()"
   ]
  },
  {
   "cell_type": "code",
   "execution_count": 17,
   "metadata": {
    "id": "JRWznk9WdB9F"
   },
   "outputs": [
    {
     "data": {
      "text/plain": [
       "<matplotlib.legend.Legend at 0x167b4db17c0>"
      ]
     },
     "execution_count": 17,
     "metadata": {},
     "output_type": "execute_result"
    },
    {
     "data": {
      "image/png": "[encoded data removed]",
      "text/plain": [
       "<Figure size 432x288 with 1 Axes>"
      ]
     },
     "metadata": {
      "needs_background": "light"
     },
     "output_type": "display_data"
    }
   ],
   "source": [
    "grp = df.groupby(['breast', 'Class'])['breast'].count().unstack().reset_index()\n",
    "labels = list(grp.iloc[:, 0].values)\n",
    "no_dis = list(grp.iloc[:, 1].values) \n",
    "yes_dis = list(grp.iloc[:, 2].values)\n",
    "x = np.arange(len(labels))  # the label locations\n",
    "width = 0.35  # the width of the bars\n",
    "\n",
    "fig, ax = plt.subplots()\n",
    "rects1 = ax.bar(x - width/2, no_dis, width, label='No-recurrence events')\n",
    "rects2 = ax.bar(x + width/2, yes_dis, width, label='Recurrence events')\n",
    "\n",
    "ax.set_ylabel('Counts')\n",
    "ax.set_xlabel('breast')\n",
    "ax.set_title('Barchart  of breast grouped by Class')\n",
    "ax.set_xticks(x) # values\n",
    "ax.set_xticklabels(labels) # labels\n",
    "ax.legend()"
   ]
  },
  {
   "cell_type": "code",
   "execution_count": 18,
   "metadata": {
    "id": "GckAfn8mdB5p"
   },
   "outputs": [
    {
     "data": {
      "text/plain": [
       "<matplotlib.legend.Legend at 0x167b4e6d850>"
      ]
     },
     "execution_count": 18,
     "metadata": {},
     "output_type": "execute_result"
    },
    {
     "data": {
      "image/png": "[encoded data removed]",
      "text/plain": [
       "<Figure size 432x288 with 1 Axes>"
      ]
     },
     "metadata": {
      "needs_background": "light"
     },
     "output_type": "display_data"
    }
   ],
   "source": [
    "grp = df.groupby(['deg-malig', 'Class'])['deg-malig'].count().unstack().reset_index()\n",
    "labels = list(grp.iloc[:, 0].values)\n",
    "no_dis = list(grp.iloc[:, 1].values) \n",
    "yes_dis = list(grp.iloc[:, 2].values)\n",
    "x = np.arange(len(labels))  # the label locations\n",
    "width = 0.35  # the width of the bars\n",
    "\n",
    "fig, ax = plt.subplots()\n",
    "rects1 = ax.bar(x - width/2, no_dis, width, label='No-recurrence events')\n",
    "rects2 = ax.bar(x + width/2, yes_dis, width, label='Recurrence events')\n",
    "\n",
    "ax.set_ylabel('Counts')\n",
    "ax.set_xlabel('deg-malig')\n",
    "ax.set_title('Barchart of deg-malig grouped by Class')\n",
    "ax.set_xticks(x) # values\n",
    "ax.set_xticklabels(labels) # labels\n",
    "ax.legend()"
   ]
  },
  {
   "cell_type": "markdown",
   "metadata": {
    "id": "8R0-a2G5e57z"
   },
   "source": [
    "## Label encoding\n"
   ]
  },
  {
   "cell_type": "code",
   "execution_count": 19,
   "metadata": {
    "id": "yZg6JSSadB1-"
   },
   "outputs": [
    {
     "data": {
      "text/html": [
       "<div>\n",
       "<style scoped>\n",
       "    .dataframe tbody tr th:only-of-type {\n",
       "        vertical-align: middle;\n",
       "    }\n",
       "\n",
       "    .dataframe tbody tr th {\n",
       "        vertical-align: top;\n",
       "    }\n",
       "\n",
       "    .dataframe thead th {\n",
       "        text-align: right;\n",
       "    }\n",
       "</style>\n",
       "<table border=\"1\" class=\"dataframe\">\n",
       "  <thead>\n",
       "    <tr style=\"text-align: right;\">\n",
       "      <th></th>\n",
       "      <th>Class</th>\n",
       "      <th>age</th>\n",
       "      <th>menopause</th>\n",
       "      <th>tumor-size</th>\n",
       "      <th>inv-nodes</th>\n",
       "      <th>node-caps</th>\n",
       "      <th>deg-malig</th>\n",
       "      <th>breast</th>\n",
       "      <th>breast-quad</th>\n",
       "      <th>irradiat</th>\n",
       "    </tr>\n",
       "  </thead>\n",
       "  <tbody>\n",
       "    <tr>\n",
       "      <th>0</th>\n",
       "      <td>0</td>\n",
       "      <td>1</td>\n",
       "      <td>2</td>\n",
       "      <td>5</td>\n",
       "      <td>0</td>\n",
       "      <td>0</td>\n",
       "      <td>2</td>\n",
       "      <td>0</td>\n",
       "      <td>1</td>\n",
       "      <td>0</td>\n",
       "    </tr>\n",
       "    <tr>\n",
       "      <th>1</th>\n",
       "      <td>0</td>\n",
       "      <td>2</td>\n",
       "      <td>2</td>\n",
       "      <td>3</td>\n",
       "      <td>0</td>\n",
       "      <td>0</td>\n",
       "      <td>1</td>\n",
       "      <td>1</td>\n",
       "      <td>4</td>\n",
       "      <td>0</td>\n",
       "    </tr>\n",
       "    <tr>\n",
       "      <th>2</th>\n",
       "      <td>0</td>\n",
       "      <td>2</td>\n",
       "      <td>2</td>\n",
       "      <td>3</td>\n",
       "      <td>0</td>\n",
       "      <td>0</td>\n",
       "      <td>1</td>\n",
       "      <td>0</td>\n",
       "      <td>1</td>\n",
       "      <td>0</td>\n",
       "    </tr>\n",
       "    <tr>\n",
       "      <th>3</th>\n",
       "      <td>0</td>\n",
       "      <td>4</td>\n",
       "      <td>0</td>\n",
       "      <td>2</td>\n",
       "      <td>0</td>\n",
       "      <td>0</td>\n",
       "      <td>1</td>\n",
       "      <td>1</td>\n",
       "      <td>2</td>\n",
       "      <td>0</td>\n",
       "    </tr>\n",
       "    <tr>\n",
       "      <th>4</th>\n",
       "      <td>0</td>\n",
       "      <td>2</td>\n",
       "      <td>2</td>\n",
       "      <td>0</td>\n",
       "      <td>0</td>\n",
       "      <td>0</td>\n",
       "      <td>1</td>\n",
       "      <td>1</td>\n",
       "      <td>3</td>\n",
       "      <td>0</td>\n",
       "    </tr>\n",
       "  </tbody>\n",
       "</table>\n",
       "</div>"
      ],
      "text/plain": [
       "   Class  age  menopause  tumor-size  inv-nodes  node-caps  deg-malig  breast  \\\n",
       "0      0    1          2           5          0          0          2       0   \n",
       "1      0    2          2           3          0          0          1       1   \n",
       "2      0    2          2           3          0          0          1       0   \n",
       "3      0    4          0           2          0          0          1       1   \n",
       "4      0    2          2           0          0          0          1       1   \n",
       "\n",
       "   breast-quad  irradiat  \n",
       "0            1         0  \n",
       "1            4         0  \n",
       "2            1         0  \n",
       "3            2         0  \n",
       "4            3         0  "
      ]
     },
     "execution_count": 19,
     "metadata": {},
     "output_type": "execute_result"
    }
   ],
   "source": [
    "from sklearn import preprocessing\n",
    "dfx =df.apply(preprocessing.LabelEncoder().fit_transform)\n",
    "dfx.head()"
   ]
  },
  {
   "cell_type": "markdown",
   "metadata": {
    "id": "r-LdNySHeAsw"
   },
   "source": [
    "## Coorelation \n"
   ]
  },
  {
   "cell_type": "code",
   "execution_count": 20,
   "metadata": {
    "id": "GAWqK2vcdByP"
   },
   "outputs": [
    {
     "data": {
      "text/html": [
       "<div>\n",
       "<style scoped>\n",
       "    .dataframe tbody tr th:only-of-type {\n",
       "        vertical-align: middle;\n",
       "    }\n",
       "\n",
       "    .dataframe tbody tr th {\n",
       "        vertical-align: top;\n",
       "    }\n",
       "\n",
       "    .dataframe thead th {\n",
       "        text-align: right;\n",
       "    }\n",
       "</style>\n",
       "<table border=\"1\" class=\"dataframe\">\n",
       "  <thead>\n",
       "    <tr style=\"text-align: right;\">\n",
       "      <th></th>\n",
       "      <th>Class</th>\n",
       "      <th>age</th>\n",
       "      <th>menopause</th>\n",
       "      <th>tumor-size</th>\n",
       "      <th>inv-nodes</th>\n",
       "      <th>node-caps</th>\n",
       "      <th>deg-malig</th>\n",
       "      <th>breast</th>\n",
       "      <th>breast-quad</th>\n",
       "      <th>irradiat</th>\n",
       "    </tr>\n",
       "  </thead>\n",
       "  <tbody>\n",
       "    <tr>\n",
       "      <th>Class</th>\n",
       "      <td>1.000000</td>\n",
       "      <td>-0.086981</td>\n",
       "      <td>0.059512</td>\n",
       "      <td>0.143968</td>\n",
       "      <td>0.325523</td>\n",
       "      <td>0.289002</td>\n",
       "      <td>0.330253</td>\n",
       "      <td>-0.041304</td>\n",
       "      <td>0.059788</td>\n",
       "      <td>0.226020</td>\n",
       "    </tr>\n",
       "    <tr>\n",
       "      <th>age</th>\n",
       "      <td>-0.086981</td>\n",
       "      <td>1.000000</td>\n",
       "      <td>-0.717573</td>\n",
       "      <td>-0.008578</td>\n",
       "      <td>-0.089014</td>\n",
       "      <td>-0.044446</td>\n",
       "      <td>-0.065260</td>\n",
       "      <td>-0.041744</td>\n",
       "      <td>-0.036234</td>\n",
       "      <td>-0.075946</td>\n",
       "    </tr>\n",
       "    <tr>\n",
       "      <th>menopause</th>\n",
       "      <td>0.059512</td>\n",
       "      <td>-0.717573</td>\n",
       "      <td>1.000000</td>\n",
       "      <td>-0.003001</td>\n",
       "      <td>0.020757</td>\n",
       "      <td>0.025001</td>\n",
       "      <td>-0.047721</td>\n",
       "      <td>0.055761</td>\n",
       "      <td>0.075289</td>\n",
       "      <td>0.071825</td>\n",
       "    </tr>\n",
       "    <tr>\n",
       "      <th>tumor-size</th>\n",
       "      <td>0.143968</td>\n",
       "      <td>-0.008578</td>\n",
       "      <td>-0.003001</td>\n",
       "      <td>1.000000</td>\n",
       "      <td>0.157523</td>\n",
       "      <td>0.166014</td>\n",
       "      <td>0.152436</td>\n",
       "      <td>0.029738</td>\n",
       "      <td>0.154654</td>\n",
       "      <td>0.166291</td>\n",
       "    </tr>\n",
       "    <tr>\n",
       "      <th>inv-nodes</th>\n",
       "      <td>0.325523</td>\n",
       "      <td>-0.089014</td>\n",
       "      <td>0.020757</td>\n",
       "      <td>0.157523</td>\n",
       "      <td>1.000000</td>\n",
       "      <td>0.672745</td>\n",
       "      <td>0.306197</td>\n",
       "      <td>0.031232</td>\n",
       "      <td>0.033165</td>\n",
       "      <td>0.342650</td>\n",
       "    </tr>\n",
       "    <tr>\n",
       "      <th>node-caps</th>\n",
       "      <td>0.289002</td>\n",
       "      <td>-0.044446</td>\n",
       "      <td>0.025001</td>\n",
       "      <td>0.166014</td>\n",
       "      <td>0.672745</td>\n",
       "      <td>1.000000</td>\n",
       "      <td>0.330181</td>\n",
       "      <td>-0.012345</td>\n",
       "      <td>0.065050</td>\n",
       "      <td>0.333537</td>\n",
       "    </tr>\n",
       "    <tr>\n",
       "      <th>deg-malig</th>\n",
       "      <td>0.330253</td>\n",
       "      <td>-0.065260</td>\n",
       "      <td>-0.047721</td>\n",
       "      <td>0.152436</td>\n",
       "      <td>0.306197</td>\n",
       "      <td>0.330181</td>\n",
       "      <td>1.000000</td>\n",
       "      <td>-0.045874</td>\n",
       "      <td>0.038025</td>\n",
       "      <td>0.230821</td>\n",
       "    </tr>\n",
       "    <tr>\n",
       "      <th>breast</th>\n",
       "      <td>-0.041304</td>\n",
       "      <td>-0.041744</td>\n",
       "      <td>0.055761</td>\n",
       "      <td>0.029738</td>\n",
       "      <td>0.031232</td>\n",
       "      <td>-0.012345</td>\n",
       "      <td>-0.045874</td>\n",
       "      <td>1.000000</td>\n",
       "      <td>0.211900</td>\n",
       "      <td>0.025230</td>\n",
       "    </tr>\n",
       "    <tr>\n",
       "      <th>breast-quad</th>\n",
       "      <td>0.059788</td>\n",
       "      <td>-0.036234</td>\n",
       "      <td>0.075289</td>\n",
       "      <td>0.154654</td>\n",
       "      <td>0.033165</td>\n",
       "      <td>0.065050</td>\n",
       "      <td>0.038025</td>\n",
       "      <td>0.211900</td>\n",
       "      <td>1.000000</td>\n",
       "      <td>0.017440</td>\n",
       "    </tr>\n",
       "    <tr>\n",
       "      <th>irradiat</th>\n",
       "      <td>0.226020</td>\n",
       "      <td>-0.075946</td>\n",
       "      <td>0.071825</td>\n",
       "      <td>0.166291</td>\n",
       "      <td>0.342650</td>\n",
       "      <td>0.333537</td>\n",
       "      <td>0.230821</td>\n",
       "      <td>0.025230</td>\n",
       "      <td>0.017440</td>\n",
       "      <td>1.000000</td>\n",
       "    </tr>\n",
       "  </tbody>\n",
       "</table>\n",
       "</div>"
      ],
      "text/plain": [
       "                Class       age  menopause  tumor-size  inv-nodes  node-caps  \\\n",
       "Class        1.000000 -0.086981   0.059512    0.143968   0.325523   0.289002   \n",
       "age         -0.086981  1.000000  -0.717573   -0.008578  -0.089014  -0.044446   \n",
       "menopause    0.059512 -0.717573   1.000000   -0.003001   0.020757   0.025001   \n",
       "tumor-size   0.143968 -0.008578  -0.003001    1.000000   0.157523   0.166014   \n",
       "inv-nodes    0.325523 -0.089014   0.020757    0.157523   1.000000   0.672745   \n",
       "node-caps    0.289002 -0.044446   0.025001    0.166014   0.672745   1.000000   \n",
       "deg-malig    0.330253 -0.065260  -0.047721    0.152436   0.306197   0.330181   \n",
       "breast      -0.041304 -0.041744   0.055761    0.029738   0.031232  -0.012345   \n",
       "breast-quad  0.059788 -0.036234   0.075289    0.154654   0.033165   0.065050   \n",
       "irradiat     0.226020 -0.075946   0.071825    0.166291   0.342650   0.333537   \n",
       "\n",
       "             deg-malig    breast  breast-quad  irradiat  \n",
       "Class         0.330253 -0.041304     0.059788  0.226020  \n",
       "age          -0.065260 -0.041744    -0.036234 -0.075946  \n",
       "menopause    -0.047721  0.055761     0.075289  0.071825  \n",
       "tumor-size    0.152436  0.029738     0.154654  0.166291  \n",
       "inv-nodes     0.306197  0.031232     0.033165  0.342650  \n",
       "node-caps     0.330181 -0.012345     0.065050  0.333537  \n",
       "deg-malig     1.000000 -0.045874     0.038025  0.230821  \n",
       "breast       -0.045874  1.000000     0.211900  0.025230  \n",
       "breast-quad   0.038025  0.211900     1.000000  0.017440  \n",
       "irradiat      0.230821  0.025230     0.017440  1.000000  "
      ]
     },
     "execution_count": 20,
     "metadata": {},
     "output_type": "execute_result"
    }
   ],
   "source": [
    "dfx.corr()"
   ]
  },
  {
   "cell_type": "markdown",
   "metadata": {
    "id": "tSbb3atUeGsF"
   },
   "source": [
    "## Plotting correlation heatmap"
   ]
  },
  {
   "cell_type": "code",
   "execution_count": 21,
   "metadata": {
    "id": "8OJ7TmE5eKCT"
   },
   "outputs": [
    {
     "data": {
      "text/plain": [
       "<AxesSubplot:>"
      ]
     },
     "execution_count": 21,
     "metadata": {},
     "output_type": "execute_result"
    },
    {
     "data": {
      "image/png": "[encoded data removed]",
      "text/plain": [
       "<Figure size 720x720 with 2 Axes>"
      ]
     },
     "metadata": {
      "needs_background": "light"
     },
     "output_type": "display_data"
    }
   ],
   "source": [
    "fig = plt.figure(figsize=(10,10))\n",
    "sns.heatmap(dfx.corr(),annot=True)"
   ]
  },
  {
   "cell_type": "markdown",
   "metadata": {
    "id": "JKI__q2ecFQZ"
   },
   "source": [
    "## Scaling"
   ]
  },
  {
   "cell_type": "code",
   "execution_count": 22,
   "metadata": {
    "id": "e_XVp5gtbhuM"
   },
   "outputs": [],
   "source": [
    "x=dfx.loc[:, dfx.columns != 'Class']\n",
    "y = dfx['Class'].values"
   ]
  },
  {
   "cell_type": "code",
   "execution_count": 23,
   "metadata": {
    "id": "NEfAo6evbhq5"
   },
   "outputs": [
    {
     "data": {
      "text/html": [
       "<div>\n",
       "<style scoped>\n",
       "    .dataframe tbody tr th:only-of-type {\n",
       "        vertical-align: middle;\n",
       "    }\n",
       "\n",
       "    .dataframe tbody tr th {\n",
       "        vertical-align: top;\n",
       "    }\n",
       "\n",
       "    .dataframe thead th {\n",
       "        text-align: right;\n",
       "    }\n",
       "</style>\n",
       "<table border=\"1\" class=\"dataframe\">\n",
       "  <thead>\n",
       "    <tr style=\"text-align: right;\">\n",
       "      <th></th>\n",
       "      <th>0</th>\n",
       "      <th>1</th>\n",
       "      <th>2</th>\n",
       "      <th>3</th>\n",
       "      <th>4</th>\n",
       "      <th>5</th>\n",
       "      <th>6</th>\n",
       "      <th>7</th>\n",
       "      <th>8</th>\n",
       "    </tr>\n",
       "  </thead>\n",
       "  <tbody>\n",
       "    <tr>\n",
       "      <th>0</th>\n",
       "      <td>-1.629078</td>\n",
       "      <td>0.918558</td>\n",
       "      <td>0.428346</td>\n",
       "      <td>-0.54156</td>\n",
       "      <td>-0.503382</td>\n",
       "      <td>1.293094</td>\n",
       "      <td>-0.954120</td>\n",
       "      <td>-0.718397</td>\n",
       "      <td>-0.537003</td>\n",
       "    </tr>\n",
       "    <tr>\n",
       "      <th>1</th>\n",
       "      <td>-0.637310</td>\n",
       "      <td>0.918558</td>\n",
       "      <td>-0.491435</td>\n",
       "      <td>-0.54156</td>\n",
       "      <td>-0.503382</td>\n",
       "      <td>-0.079270</td>\n",
       "      <td>1.048086</td>\n",
       "      <td>2.020079</td>\n",
       "      <td>-0.537003</td>\n",
       "    </tr>\n",
       "    <tr>\n",
       "      <th>2</th>\n",
       "      <td>-0.637310</td>\n",
       "      <td>0.918558</td>\n",
       "      <td>-0.491435</td>\n",
       "      <td>-0.54156</td>\n",
       "      <td>-0.503382</td>\n",
       "      <td>-0.079270</td>\n",
       "      <td>-0.954120</td>\n",
       "      <td>-0.718397</td>\n",
       "      <td>-0.537003</td>\n",
       "    </tr>\n",
       "    <tr>\n",
       "      <th>3</th>\n",
       "      <td>1.346227</td>\n",
       "      <td>-1.108857</td>\n",
       "      <td>-0.951326</td>\n",
       "      <td>-0.54156</td>\n",
       "      <td>-0.503382</td>\n",
       "      <td>-0.079270</td>\n",
       "      <td>1.048086</td>\n",
       "      <td>0.194428</td>\n",
       "      <td>-0.537003</td>\n",
       "    </tr>\n",
       "    <tr>\n",
       "      <th>4</th>\n",
       "      <td>-0.637310</td>\n",
       "      <td>0.918558</td>\n",
       "      <td>-1.871107</td>\n",
       "      <td>-0.54156</td>\n",
       "      <td>-0.503382</td>\n",
       "      <td>-0.079270</td>\n",
       "      <td>1.048086</td>\n",
       "      <td>1.107254</td>\n",
       "      <td>-0.537003</td>\n",
       "    </tr>\n",
       "  </tbody>\n",
       "</table>\n",
       "</div>"
      ],
      "text/plain": [
       "          0         1         2        3         4         5         6  \\\n",
       "0 -1.629078  0.918558  0.428346 -0.54156 -0.503382  1.293094 -0.954120   \n",
       "1 -0.637310  0.918558 -0.491435 -0.54156 -0.503382 -0.079270  1.048086   \n",
       "2 -0.637310  0.918558 -0.491435 -0.54156 -0.503382 -0.079270 -0.954120   \n",
       "3  1.346227 -1.108857 -0.951326 -0.54156 -0.503382 -0.079270  1.048086   \n",
       "4 -0.637310  0.918558 -1.871107 -0.54156 -0.503382 -0.079270  1.048086   \n",
       "\n",
       "          7         8  \n",
       "0 -0.718397 -0.537003  \n",
       "1  2.020079 -0.537003  \n",
       "2 -0.718397 -0.537003  \n",
       "3  0.194428 -0.537003  \n",
       "4  1.107254 -0.537003  "
      ]
     },
     "execution_count": 23,
     "metadata": {},
     "output_type": "execute_result"
    }
   ],
   "source": [
    "scaler = StandardScaler()\n",
    "x = pd.DataFrame(scaler.fit_transform(x))\n",
    "x.head()"
   ]
  },
  {
   "cell_type": "code",
   "execution_count": 24,
   "metadata": {
    "id": "F4jaPRcwMbf8"
   },
   "outputs": [
    {
     "data": {
      "text/plain": [
       "(277, 10)"
      ]
     },
     "execution_count": 24,
     "metadata": {},
     "output_type": "execute_result"
    }
   ],
   "source": [
    "df.shape"
   ]
  },
  {
   "cell_type": "markdown",
   "metadata": {
    "id": "utoEaO9YcZjq"
   },
   "source": [
    "## Train Test Validation Split"
   ]
  },
  {
   "cell_type": "code",
   "execution_count": 25,
   "metadata": {
    "id": "b3peX_56bhnW"
   },
   "outputs": [],
   "source": [
    "x_train, x_test, y_train, y_test = train_test_split(x,y,test_size = 0.1, random_state = 150)\n",
    "x_train, x_val, y_train, y_val = train_test_split(x_train,y_train,test_size = 0.1, random_state = 150)\n"
   ]
  },
  {
   "cell_type": "code",
   "execution_count": 26,
   "metadata": {
    "id": "-_h8qVEgbhjo"
   },
   "outputs": [
    {
     "name": "stdout",
     "output_type": "stream",
     "text": [
      "x train:  (224, 9)\n",
      "x test:  (28, 9)\n",
      "x val:  (25, 9)\n",
      "y train:  (224,)\n",
      "y test:  (28,)\n",
      "y val:  (25,)\n"
     ]
    }
   ],
   "source": [
    "\n",
    "print(\"x train: \",x_train.shape)\n",
    "print(\"x test: \",x_test.shape)\n",
    "print(\"x val: \",x_val.shape)\n",
    "\n",
    "print(\"y train: \",y_train.shape)\n",
    "print(\"y test: \",y_test.shape)\n",
    "print(\"y val: \",y_val.shape)"
   ]
  },
  {
   "cell_type": "code",
   "execution_count": 27,
   "metadata": {
    "id": "gCHRDL74bhYe"
   },
   "outputs": [],
   "source": [
    "# Defining logistic regression\n",
    "recurrence_classifier = LogisticRegression(C=0.001)"
   ]
  },
  {
   "cell_type": "code",
   "execution_count": 28,
   "metadata": {
    "id": "z8-8_-5CbhUn"
   },
   "outputs": [],
   "source": [
    "recurrence_classifier.fit(x_train, y_train)\n",
    "y_pred = recurrence_classifier.predict(x_test)\n",
    "y_pred_val = recurrence_classifier.predict(x_val)"
   ]
  },
  {
   "cell_type": "code",
   "execution_count": 29,
   "metadata": {
    "id": "vYGZPAKlbhQ-"
   },
   "outputs": [
    {
     "name": "stdout",
     "output_type": "stream",
     "text": [
      "              precision    recall  f1-score   support\n",
      "\n",
      "           0       0.75      1.00      0.86        21\n",
      "           1       0.00      0.00      0.00         7\n",
      "\n",
      "    accuracy                           0.75        28\n",
      "   macro avg       0.38      0.50      0.43        28\n",
      "weighted avg       0.56      0.75      0.64        28\n",
      "\n",
      "Test Accuracy:  0.75\n",
      "Val Accuracy:  0.6\n"
     ]
    }
   ],
   "source": [
    "# Model Evaluation (Logistic regression)\n",
    "print(classification_report(y_test, y_pred))\n",
    "\n",
    "print(\"Test Accuracy: \", accuracy_score(y_test, y_pred))\n",
    "print(\"Val Accuracy: \", accuracy_score(y_val, y_pred_val))"
   ]
  },
  {
   "cell_type": "markdown",
   "metadata": {
    "id": "MWrnL1MPl4P-"
   },
   "source": [
    "## Plotting ROC curve and AUC"
   ]
  },
  {
   "cell_type": "code",
   "execution_count": 30,
   "metadata": {
    "id": "rPWb-2qtbhNq"
   },
   "outputs": [
    {
     "data": {
      "text/plain": [
       "<sklearn.metrics._plot.roc_curve.RocCurveDisplay at 0x167b4e764c0>"
      ]
     },
     "execution_count": 30,
     "metadata": {},
     "output_type": "execute_result"
    },
    {
     "data": {
      "image/png": "[encoded data removed]",
      "text/plain": [
       "<Figure size 432x288 with 1 Axes>"
      ]
     },
     "metadata": {
      "needs_background": "light"
     },
     "output_type": "display_data"
    }
   ],
   "source": [
    "metrics.plot_roc_curve(recurrence_classifier, x_val, y_val)"
   ]
  },
  {
   "cell_type": "code",
   "execution_count": 31,
   "metadata": {
    "id": "_Wk2etzUl-LO"
   },
   "outputs": [
    {
     "name": "stdout",
     "output_type": "stream",
     "text": [
      "<sklearn.metrics._plot.confusion_matrix.ConfusionMatrixDisplay object at 0x00000167B4ED85B0>\n"
     ]
    },
    {
     "data": {
      "image/png": "[encoded data removed]",
      "text/plain": [
       "<Figure size 432x288 with 2 Axes>"
      ]
     },
     "metadata": {
      "needs_background": "light"
     },
     "output_type": "display_data"
    }
   ],
   "source": [
    "confusion_matrix = metrics.plot_confusion_matrix(recurrence_classifier, x_test, y_test, cmap='RdPu')\n",
    "print(confusion_matrix)"
   ]
  },
  {
   "cell_type": "markdown",
   "metadata": {
    "id": "Ne9YrjcsmFWx"
   },
   "source": [
    "## Tuning Lambda"
   ]
  },
  {
   "cell_type": "code",
   "execution_count": 32,
   "metadata": {
    "id": "_ieW9WdRl9_3"
   },
   "outputs": [
    {
     "name": "stdout",
     "output_type": "stream",
     "text": [
      "['10000.0', '1000.0', '100.0', '10.0', '1.0', '0.1', '0.01', '0.001']\n"
     ]
    },
    {
     "data": {
      "image/png": "[encoded data removed]",
      "text/plain": [
       "<Figure size 432x288 with 1 Axes>"
      ]
     },
     "metadata": {
      "needs_background": "light"
     },
     "output_type": "display_data"
    }
   ],
   "source": [
    "C_values = [1e-4, 1e-3, 1e-2, 1e-1, 1, 10, 100, 1000]\n",
    "# C_values= np.linspace(0.01,10,100)\n",
    "lambda_ = [str(1/i) for i in C_values]\n",
    "print(lambda_)\n",
    "train_acc, val_acc, test_acc = [], [], []\n",
    "\n",
    "for c in C_values:\n",
    "    # where lambda = 1/c\n",
    "    r_c = LogisticRegression(C = c, random_state = 1)\n",
    "    r_c.fit(x_train,y_train)\n",
    "    \n",
    "    \n",
    "    y_pred_train = r_c.predict(x_train)\n",
    "    y_pred_valid = r_c.predict(x_val)\n",
    "    y_pred_test = r_c.predict(x_test)\n",
    "    \n",
    "    # accuracy\n",
    "    train_acc.append(accuracy_score(y_train, y_pred_train))\n",
    "    val_acc.append(accuracy_score(y_val, y_pred_valid))\n",
    "    test_acc.append(accuracy_score(y_test, y_pred_test))\n",
    "\n",
    "\n",
    "fig, ax = plt.subplots()\n",
    "fig.canvas.draw()\n",
    "plt.xlabel(\"Lambda\")\n",
    "plt.ylabel(\"Model Accuracy\")\n",
    "plt.plot(np.array(train_acc), color='blue', label='Training')\n",
    "plt.plot(np.array(val_acc), color='orange', label='Validation')\n",
    "\n",
    "\n",
    "plt.legend()\n",
    "ax.set_xticklabels(lambda_) \n",
    "plt.show()"
   ]
  },
  {
   "cell_type": "markdown",
   "metadata": {
    "id": "7ymSH1yrme2f"
   },
   "source": [
    "## K-fold cross-validaiton for hypterparameter selection"
   ]
  },
  {
   "cell_type": "code",
   "execution_count": 33,
   "metadata": {
    "id": "1-UzAphIl98r"
   },
   "outputs": [
    {
     "name": "stdout",
     "output_type": "stream",
     "text": [
      "Fitting 7 folds for each of 8 candidates, totalling 56 fits\n"
     ]
    }
   ],
   "source": [
    "\n",
    "grid_select={\"C\":[1e-4, 1e-3, 1e-2, 1e-1, 1, 10, 100, 1000]}\n",
    "\n",
    "search_cv = GridSearchCV(recurrence_classifier, param_grid=grid_select, cv=7, scoring='accuracy', verbose=True, n_jobs=-1)\n",
    "\n",
    "best_clf = search_cv.fit(x_val, y_val\n",
    "                         )\n",
    "\n"
   ]
  },
  {
   "cell_type": "code",
   "execution_count": 34,
   "metadata": {
    "id": "kG9QdTf9l945"
   },
   "outputs": [
    {
     "name": "stdout",
     "output_type": "stream",
     "text": [
      "Best hpyerparameters :(best parameters)  {'C': 0.1}\n",
      "accuracy : 0.7261904761904763\n"
     ]
    }
   ],
   "source": [
    "# Best hyperparameter\n",
    "print(\"Best hpyerparameters :(best parameters) \",best_clf.best_params_)\n",
    "print(\"accuracy :\", best_clf.best_score_)"
   ]
  },
  {
   "cell_type": "markdown",
   "metadata": {
    "id": "-j438MkYoZBP"
   },
   "source": [
    "# Classification using SVM"
   ]
  },
  {
   "cell_type": "code",
   "execution_count": 35,
   "metadata": {
    "id": "xR2l17e9l9uy"
   },
   "outputs": [],
   "source": [
    "from sklearn.svm import SVC\n",
    "from sklearn import svm"
   ]
  },
  {
   "cell_type": "code",
   "execution_count": 36,
   "metadata": {
    "id": "gpL7Kgq6l9rB"
   },
   "outputs": [],
   "source": [
    "svm_clf = svm.SVC()\n",
    "svm_clf.fit(x_train, y_train)\n",
    "pred_clf = svm_clf.predict(x_test)\n",
    "pred_clf_val = svm_clf.predict(x_val)"
   ]
  },
  {
   "cell_type": "code",
   "execution_count": 37,
   "metadata": {
    "id": "M5313b8ol9mE"
   },
   "outputs": [
    {
     "name": "stdout",
     "output_type": "stream",
     "text": [
      "              precision    recall  f1-score   support\n",
      "\n",
      "           0       0.84      1.00      0.91        21\n",
      "           1       1.00      0.43      0.60         7\n",
      "\n",
      "    accuracy                           0.86        28\n",
      "   macro avg       0.92      0.71      0.76        28\n",
      "weighted avg       0.88      0.86      0.83        28\n",
      "\n"
     ]
    }
   ],
   "source": [
    "# Prediction\n",
    "print(classification_report(y_test, pred_clf))\n"
   ]
  },
  {
   "cell_type": "code",
   "execution_count": 38,
   "metadata": {
    "id": "tiW-QbNxom9t"
   },
   "outputs": [
    {
     "name": "stdout",
     "output_type": "stream",
     "text": [
      "test_acc  0.8571428571428571\n",
      "val acc 0.76\n"
     ]
    }
   ],
   "source": [
    "print('test_acc ',accuracy_score(y_test, pred_clf))\n",
    "print('val acc', accuracy_score(y_val, pred_clf_val))"
   ]
  },
  {
   "cell_type": "markdown",
   "metadata": {
    "id": "6IqUG4Nm6GuH"
   },
   "source": [
    "# Learning Curve"
   ]
  },
  {
   "cell_type": "code",
   "execution_count": 39,
   "metadata": {
    "id": "Bp_m7uuUom5f"
   },
   "outputs": [
    {
     "data": {
      "image/png": "[encoded data removed]",
      "text/plain": [
       "<Figure size 432x288 with 1 Axes>"
      ]
     },
     "metadata": {
      "needs_background": "light"
     },
     "output_type": "display_data"
    }
   ],
   "source": [
    "train_sizes, train_scores, validation_scores = learning_curve(svm_clf, x_train, y_train, train_sizes=np.logspace(-1, 0, 20))\n",
    "\n",
    "plt.plot(train_sizes, validation_scores.mean(axis=1), label='Validation') \n",
    "plt.plot(train_sizes, train_scores.mean(axis=1), label='training') \n",
    "plt.legend()\n",
    "plt.show()"
   ]
  },
  {
   "cell_type": "code",
   "execution_count": 58,
   "metadata": {},
   "outputs": [],
   "source": [
    "#Here from above we can see that the score of training is\n",
    "#higher than the validation which signifies there is a overfitting. \n",
    "#Overfitting is a concept in data science, which occurs when a statistical\n",
    "#model fits exactly against its training data"
   ]
  },
  {
   "cell_type": "code",
   "execution_count": 40,
   "metadata": {
    "id": "Hyw5P5r2om2R"
   },
   "outputs": [
    {
     "data": {
      "text/plain": [
       "<sklearn.metrics._plot.roc_curve.RocCurveDisplay at 0x167b6471ee0>"
      ]
     },
     "execution_count": 40,
     "metadata": {},
     "output_type": "execute_result"
    },
    {
     "data": {
      "image/png": "[encoded data removed]",
      "text/plain": [
       "<Figure size 432x288 with 1 Axes>"
      ]
     },
     "metadata": {
      "needs_background": "light"
     },
     "output_type": "display_data"
    }
   ],
   "source": [
    "from sklearn.metrics import plot_roc_curve\n",
    "plot_roc_curve(svm_clf, x_val, y_val)"
   ]
  },
  {
   "cell_type": "code",
   "execution_count": 41,
   "metadata": {
    "id": "YJXTHfnXomym"
   },
   "outputs": [
    {
     "name": "stdout",
     "output_type": "stream",
     "text": [
      "<sklearn.metrics._plot.confusion_matrix.ConfusionMatrixDisplay object at 0x00000167B51232E0>\n"
     ]
    },
    {
     "data": {
      "image/png": "[encoded data removed]",
      "text/plain": [
       "<Figure size 432x288 with 2 Axes>"
      ]
     },
     "metadata": {
      "needs_background": "light"
     },
     "output_type": "display_data"
    }
   ],
   "source": [
    "confusion_matrix = metrics.plot_confusion_matrix(svm_clf, x_test, y_test, cmap='RdPu')\n",
    "print(confusion_matrix)"
   ]
  },
  {
   "cell_type": "markdown",
   "metadata": {
    "id": "Icq7k_i9rsUe"
   },
   "source": [
    "Tuning Hyperparameters"
   ]
  },
  {
   "cell_type": "code",
   "execution_count": 42,
   "metadata": {
    "id": "WoFQHzOxomvL"
   },
   "outputs": [
    {
     "name": "stdout",
     "output_type": "stream",
     "text": [
      "['100.0', '2.0', '10.0', '1.0', '0.1', '0.0625', '0.04']\n"
     ]
    },
    {
     "data": {
      "image/png": "[encoded data removed]",
      "text/plain": [
       "<Figure size 432x288 with 1 Axes>"
      ]
     },
     "metadata": {
      "needs_background": "light"
     },
     "output_type": "display_data"
    }
   ],
   "source": [
    "C_values = [ 0.01,0.5,0.1, 1, 10, 16,25]\n",
    "# C_values= np.linspace(0.01,10,100)\n",
    "lambda_ = [str(1/i) for i in C_values]\n",
    "print(lambda_)\n",
    "train_acc, val_acc, test_acc = [], [], []\n",
    "\n",
    "for c in C_values:\n",
    "    # where lambda = 1/c\n",
    "    sclf = svm.SVC(C = c, random_state = 1)\n",
    "    sclf.fit(x_train,y_train)\n",
    "    \n",
    "    \n",
    "    y_pred_train = sclf.predict(x_train)\n",
    "    y_pred_valid = sclf.predict(x_val)\n",
    "    y_pred_test = sclf.predict(x_test)\n",
    "    \n",
    "    # accuracy\n",
    "    train_acc.append(accuracy_score(y_train, y_pred_train))\n",
    "    val_acc.append(accuracy_score(y_val, y_pred_valid))\n",
    "    test_acc.append(accuracy_score(y_test, y_pred_test))\n",
    "\n",
    "\n",
    "fig, ax = plt.subplots()\n",
    "fig.canvas.draw()\n",
    "plt.xlabel(\"Lambda\")\n",
    "plt.ylabel(\"Model Accuracy\")\n",
    "plt.plot(np.array(train_acc), color='blue', label='Training')\n",
    "plt.plot(np.array(val_acc), color='orange', label='Validation')\n",
    "\n",
    "\n",
    "plt.legend()\n",
    "ax.set_xticklabels(lambda_) #\n",
    "plt.show()"
   ]
  },
  {
   "cell_type": "code",
   "execution_count": 43,
   "metadata": {
    "id": "KEN3uh0Vomrt"
   },
   "outputs": [
    {
     "name": "stdout",
     "output_type": "stream",
     "text": [
      "Fitting 5 folds for each of 28 candidates, totalling 140 fits\n"
     ]
    }
   ],
   "source": [
    "grid_select={\"C\":[ 0.01,0.5,0.1, 1, 10, 16,25], 'degree':[3, 4, 5, 6]}\n",
    "svm_clf = svm.SVC()\n",
    "svm_cv = GridSearchCV(svm_clf, param_grid=grid_select, cv=5, scoring='accuracy', verbose=True, n_jobs=-1)\n",
    "\n",
    "fine_classifier = svm_cv.fit(x_val, y_val)\n",
    "\n"
   ]
  },
  {
   "cell_type": "code",
   "execution_count": 44,
   "metadata": {
    "id": "YRgcvpdhomoL"
   },
   "outputs": [
    {
     "name": "stdout",
     "output_type": "stream",
     "text": [
      "Best hpyerparameters :(best parameters)  {'C': 1, 'degree': 3}\n",
      "accuracy : 0.64\n"
     ]
    }
   ],
   "source": [
    "# Best hyperparameter\n",
    "print(\"Best hpyerparameters :(best parameters) \",fine_classifier.best_params_)\n",
    "print(\"accuracy :\",fine_classifier.best_score_)"
   ]
  },
  {
   "cell_type": "code",
   "execution_count": 45,
   "metadata": {
    "id": "pINw7FkaHhBo"
   },
   "outputs": [
    {
     "data": {
      "text/plain": [
       "0.96"
      ]
     },
     "execution_count": 45,
     "metadata": {},
     "output_type": "execute_result"
    }
   ],
   "source": [
    "### The best params form grid search for svc from grid search shows different result\n",
    "accuracy_score(fine_classifier.predict(x_val),y_val)"
   ]
  },
  {
   "cell_type": "markdown",
   "metadata": {
    "id": "BW_Fpmkk2FiP"
   },
   "source": [
    "# Neural Network\n"
   ]
  },
  {
   "cell_type": "code",
   "execution_count": 46,
   "metadata": {
    "id": "9qe7og0l2KRh"
   },
   "outputs": [],
   "source": [
    "multilayer_classifier = MLPClassifier(hidden_layer_sizes=(10, 30, 10), max_iter=1000)\n",
    "multilayer_classifier.fit(x_train, y_train)\n",
    "pred_multilayer_classifier = multilayer_classifier.predict(x_test)"
   ]
  },
  {
   "cell_type": "code",
   "execution_count": 47,
   "metadata": {
    "id": "vNbwRla52KN0"
   },
   "outputs": [
    {
     "name": "stdout",
     "output_type": "stream",
     "text": [
      "              precision    recall  f1-score   support\n",
      "\n",
      "           0       0.95      0.90      0.93        21\n",
      "           1       0.75      0.86      0.80         7\n",
      "\n",
      "    accuracy                           0.89        28\n",
      "   macro avg       0.85      0.88      0.86        28\n",
      "weighted avg       0.90      0.89      0.90        28\n",
      "\n"
     ]
    }
   ],
   "source": [
    "print(classification_report(y_test, pred_multilayer_classifier))"
   ]
  },
  {
   "cell_type": "code",
   "execution_count": 48,
   "metadata": {
    "id": "lchxwz5X2KKk"
   },
   "outputs": [
    {
     "name": "stdout",
     "output_type": "stream",
     "text": [
      "Validation acc 0.68\n",
      "test acc 0.8928571428571429\n"
     ]
    }
   ],
   "source": [
    "print('Validation acc',accuracy_score(y_val, multilayer_classifier.predict(x_val)))\n",
    "print('test acc',accuracy_score(y_test, pred_multilayer_classifier))"
   ]
  },
  {
   "cell_type": "code",
   "execution_count": 49,
   "metadata": {
    "id": "NgZs47VN2KHY"
   },
   "outputs": [
    {
     "name": "stdout",
     "output_type": "stream",
     "text": [
      "<sklearn.metrics._plot.confusion_matrix.ConfusionMatrixDisplay object at 0x00000167B5196CA0>\n"
     ]
    },
    {
     "data": {
      "image/png": "[encoded data removed]",
      "text/plain": [
       "<Figure size 432x288 with 2 Axes>"
      ]
     },
     "metadata": {
      "needs_background": "light"
     },
     "output_type": "display_data"
    }
   ],
   "source": [
    "confusion_matrix = metrics.plot_confusion_matrix(multilayer_classifier, x_test, y_test, cmap='RdPu')\n",
    "print(confusion_matrix)"
   ]
  },
  {
   "cell_type": "markdown",
   "metadata": {
    "id": "QjLXZYC55pzM"
   },
   "source": [
    "# Roc curve\n"
   ]
  },
  {
   "cell_type": "code",
   "execution_count": 50,
   "metadata": {
    "id": "fosuqg365bTk"
   },
   "outputs": [
    {
     "data": {
      "text/plain": [
       "<sklearn.metrics._plot.roc_curve.RocCurveDisplay at 0x167b6590fa0>"
      ]
     },
     "execution_count": 50,
     "metadata": {},
     "output_type": "execute_result"
    },
    {
     "data": {
      "image/png": "[encoded data removed]",
      "text/plain": [
       "<Figure size 432x288 with 1 Axes>"
      ]
     },
     "metadata": {
      "needs_background": "light"
     },
     "output_type": "display_data"
    }
   ],
   "source": [
    "metrics.plot_roc_curve(multilayer_classifier, x_val, y_val)"
   ]
  },
  {
   "cell_type": "code",
   "execution_count": 51,
   "metadata": {
    "id": "lVYq3ws05bZ4"
   },
   "outputs": [
    {
     "data": {
      "image/png": "[encoded data removed]",
      "text/plain": [
       "<Figure size 432x288 with 1 Axes>"
      ]
     },
     "metadata": {
      "needs_background": "light"
     },
     "output_type": "display_data"
    }
   ],
   "source": [
    "train_sizes, train_scores, validation_scores = learning_curve(multilayer_classifier, x_train, y_train, train_sizes=np.logspace(-1, 0, 20))\n",
    "\n",
    "plt.plot(train_sizes, validation_scores.mean(axis=1), label='Validation') \n",
    "plt.plot(train_sizes, train_scores.mean(axis=1), label='training') \n",
    "plt.legend()\n",
    "plt.show()"
   ]
  },
  {
   "cell_type": "code",
   "execution_count": 52,
   "metadata": {
    "id": "1uCXel9m5bm_"
   },
   "outputs": [
    {
     "name": "stdout",
     "output_type": "stream",
     "text": [
      "Fitting 5 folds for each of 72 candidates, totalling 360 fits\n"
     ]
    }
   ],
   "source": [
    "parameters_ = {\n",
    "    'hidden_layer_sizes': [(10,30,10),(10,20,10),(20,15,10)],\n",
    "    'activation': ['tanh', 'relu'],\n",
    "    'solver': ['sgd', 'adam'],\n",
    "    'alpha': [0.0001, 0.05, 0.1],\n",
    "    'learning_rate': ['constant','adaptive'],\n",
    "}\n",
    "#grid search in validation data\n",
    "classifier_ = GridSearchCV(multilayer_classifier, parameters_, n_jobs=-1, cv=5, verbose=True)\n",
    "best = classifier_.fit(x_val, y_val) \n"
   ]
  },
  {
   "cell_type": "code",
   "execution_count": 53,
   "metadata": {
    "id": "_8zsLOKh5buJ"
   },
   "outputs": [
    {
     "name": "stdout",
     "output_type": "stream",
     "text": [
      "Best Parameters:\n",
      " {'activation': 'relu', 'alpha': 0.05, 'hidden_layer_sizes': (10, 20, 10), 'learning_rate': 'adaptive', 'solver': 'adam'}\n",
      "accuracy : 0.72\n"
     ]
    }
   ],
   "source": [
    "print('Best Parameters:\\n', classifier_.best_params_)\n",
    "print(\"accuracy :\", best.best_score_)"
   ]
  },
  {
   "cell_type": "markdown",
   "metadata": {
    "id": "yOSMQIFxlnJO"
   },
   "source": [
    "## ROC Curve comparision"
   ]
  },
  {
   "cell_type": "code",
   "execution_count": 54,
   "metadata": {
    "id": "VTaHHzzw2J9l"
   },
   "outputs": [
    {
     "data": {
      "text/plain": [
       "MLPClassifier(alpha=0.05, hidden_layer_sizes=(10, 20, 10),\n",
       "              learning_rate='adaptive', max_iter=1000, solver='sgd')"
      ]
     },
     "execution_count": 54,
     "metadata": {},
     "output_type": "execute_result"
    }
   ],
   "source": [
    "svm_clf = svm.SVC(C=10,degree=1)\n",
    "lr = LogisticRegression(C=0.1)\n",
    "\n",
    "mlp = MLPClassifier(hidden_layer_sizes=(10, 20, 10),activation='relu',alpha=0.05,learning_rate='adaptive',solver='sgd', max_iter=1000)\n",
    "lr.fit(x_train, y_train)\n",
    "svm_clf.fit(x_train, y_train)\n",
    "mlp.fit(x_train, y_train)"
   ]
  },
  {
   "cell_type": "code",
   "execution_count": 55,
   "metadata": {
    "id": "ZwbnB3S23FgQ"
   },
   "outputs": [
    {
     "data": {
      "image/png": "[encoded data removed]",
      "text/plain": [
       "<Figure size 432x288 with 1 Axes>"
      ]
     },
     "metadata": {
      "needs_background": "light"
     },
     "output_type": "display_data"
    }
   ],
   "source": [
    "disp= plot_roc_curve(lr, x_test,y_test, name=\"Logistic Regression\")\n",
    "plot_roc_curve(svm_clf,x_test,y_test, ax= disp.ax_, name=\"SVM\");\n",
    "plot_roc_curve(mlp,x_test,y_test, ax= disp.ax_,name=\"Neural Network\");\n"
   ]
  }
 ],
 "metadata": {
  "accelerator": "TPU",
  "colab": {
   "collapsed_sections": [],
   "name": "Final_ML.ipynb",
   "private_outputs": true,
   "provenance": []
  },
  "kernelspec": {
   "display_name": "Python 3 (ipykernel)",
   "language": "python",
   "name": "python3"
  },
  "language_info": {
   "codemirror_mode": {
    "name": "ipython",
    "version": 3
   },
   "file_extension": ".py",
   "mimetype": "text/x-python",
   "name": "python",
   "nbconvert_exporter": "python",
   "pygments_lexer": "ipython3",
   "version": "3.9.7"
  }
 },
 "nbformat": 4,
 "nbformat_minor": 1
}
